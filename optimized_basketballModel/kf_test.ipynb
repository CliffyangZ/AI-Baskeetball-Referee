{
 "cells": [
  {
   "cell_type": "code",
   "execution_count": 4,
   "id": "b4d1c695",
   "metadata": {},
   "outputs": [],
   "source": [
    "from basketballModel import BasketballKalmanFilter\n",
    "import argparse\n",
    "import os\n",
    "from ultralytics import YOLO"
   ]
  },
  {
   "cell_type": "code",
   "execution_count": 5,
   "id": "35dbe866",
   "metadata": {},
   "outputs": [
    {
     "data": {
      "text/plain": [
       "'/Users/cliffyang/Documents/Program/basketball_project/optimized_basketballModel'"
      ]
     },
     "execution_count": 5,
     "metadata": {},
     "output_type": "execute_result"
    }
   ],
   "source": [
    "os.getcwd()"
   ]
  },
  {
   "cell_type": "code",
   "execution_count": 2,
   "id": "bde3a93a",
   "metadata": {},
   "outputs": [],
   "source": [
    "\n",
    "model = YOLO(\"../pt_models/basketballModel.pt\")"
   ]
  },
  {
   "cell_type": "code",
   "execution_count": null,
   "id": "0385d56b",
   "metadata": {},
   "outputs": [],
   "source": [
    "kf = BasketballKalmanFilter()"
   ]
  },
  {
   "cell_type": "code",
   "execution_count": null,
   "id": "aabc8eab",
   "metadata": {},
   "outputs": [],
   "source": [
    "# Parse command line arguments\n",
    "parser = argparse.ArgumentParser(description='Basketball Tracking Demo')\n",
    "parser.add_argument('--model', type=str, default='basketballModel.pt', help='Path to the YOLO model')\n",
    "parser.add_argument('--source', type=str, default='0', help='Source for tracking (0 for webcam, or video file path)')\n",
    "parser.add_argument('--enhanced', action='store_true', help='Use enhanced tracking with Kalman filtering')\n",
    "parser.add_argument('--scale', type=float, default=1.0, help='Display scale factor')\n",
    "args = parser.parse_args()\n",
    "\n",
    "print(f\"Basketball Tracking Demo\")\n",
    "print(f\"Model: {args.model}\")\n",
    "print(f\"Source: {args.source}\")\n",
    "print(f\"Enhanced Mode: {'Yes' if args.enhanced else 'No'}\")\n",
    "\n",
    "%tb"
   ]
  },
  {
   "cell_type": "code",
   "execution_count": null,
   "id": "f6d03564",
   "metadata": {},
   "outputs": [],
   "source": [
    "try:\n",
    "    # Create tracker based on mode\n",
    "    if args.enhanced:\n",
    "        tracker = EnhancedBasketballTracker(args.model)\n",
    "        print(\"Using Enhanced Basketball Tracker with Kalman filtering\")\n",
    "    else:\n",
    "        tracker = BasketballTracker(args.model)\n",
    "        print(\"Using Standard Basketball Tracker\")\n",
    "        \n",
    "    # Determine if source is a webcam or video file\n",
    "    if args.source.isdigit():\n",
    "        print(f\"Starting real-time tracking with webcam {args.source}\")\n",
    "        tracker.track_realtime(int(args.source), args.scale)\n",
    "    else:\n",
    "        print(f\"Processing video file: {args.source}\")\n",
    "        tracker.track_video(args.source)\n",
    "           \n",
    "except Exception as e:\n",
    "    print(f\"Error: {e}\")"
   ]
  },
  {
   "cell_type": "code",
   "execution_count": null,
   "id": "cb79c451",
   "metadata": {},
   "outputs": [],
   "source": []
  }
 ],
 "metadata": {
  "kernelspec": {
   "display_name": "ov_env",
   "language": "python",
   "name": "python3"
  },
  "language_info": {
   "codemirror_mode": {
    "name": "ipython",
    "version": 3
   },
   "file_extension": ".py",
   "mimetype": "text/x-python",
   "name": "python",
   "nbconvert_exporter": "python",
   "pygments_lexer": "ipython3",
   "version": "3.10.18"
  }
 },
 "nbformat": 4,
 "nbformat_minor": 5
}
