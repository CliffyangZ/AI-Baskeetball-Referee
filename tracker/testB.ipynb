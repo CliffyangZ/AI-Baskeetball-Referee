{
 "cells": [
  {
   "cell_type": "code",
   "execution_count": 36,
   "id": "61658af9",
   "metadata": {},
   "outputs": [],
   "source": [
    "from basketballTracker import BasketballTracker\n",
    "from utils.openvino_utils import DeviceType\n",
    "import cv2\n",
    "import os"
   ]
  },
  {
   "cell_type": "code",
   "execution_count": 38,
   "id": "a3ad24a6",
   "metadata": {},
   "outputs": [
    {
     "name": "stderr",
     "output_type": "stream",
     "text": [
      "INFO:utils.openvino_utils:Loading model from: ../models/ov_models/basketballModel_openvino_model/basketballModel.xml\n",
      "INFO:utils.openvino_utils:Model loaded successfully. Input shape: [1,3,416,416]\n",
      "INFO:utils.openvino_utils:OpenVINO engine initialized with device: CPU\n",
      "INFO:utils.byte_track:BYTETracker initialized: high_thresh=0.6, low_thresh=0.2\n",
      "INFO:basketballTracker:BasketballTracker initialized with device: CPU\n"
     ]
    }
   ],
   "source": [
    "model_path = \"../models/ov_models/basketballModel_openvino_model/basketballModel.xml\"\n",
    "tracker = BasketballTracker(model_path, DeviceType.CPU, high_thresh=0.6, low_thresh=0.2)\n"
   ]
  },
  {
   "cell_type": "code",
   "execution_count": 39,
   "id": "67c52f3a",
   "metadata": {},
   "outputs": [
    {
     "name": "stdout",
     "output_type": "stream",
     "text": [
      "Basketball Tracker with ByteTrack Algorithm\n",
      "Press 'q' to quit, 'r' to reset tracker\n",
      "Ball 1020: Center at (1048.6, 800.9), Velocity: (0.0, 0.0)\n",
      "Ball 1022: Center at (905.0, 493.3), Velocity: (0.0, 0.0)\n",
      "Ball 1024: Center at (881.3, 491.3), Velocity: (0.0, 0.0)\n",
      "Ball 1024: Center at (857.6, 497.2), Velocity: (-23.7, 5.8)\n",
      "Ball 1026: Center at (629.3, 813.9), Velocity: (0.0, 0.0)\n",
      "Ball 1028: Center at (580.3, 841.2), Velocity: (0.0, 0.0)\n",
      "Ball 1030: Center at (561.8, 736.0), Velocity: (0.0, 0.0)\n",
      "Ball 1032: Center at (697.5, 613.3), Velocity: (0.0, 0.0)\n",
      "Ball 1034: Center at (707.4, 607.5), Velocity: (0.0, 0.0)\n",
      "Ball 1034: Center at (708.7, 607.5), Velocity: (1.3, 0.0)\n",
      "Ball 1034: Center at (704.8, 615.6), Velocity: (-4.0, 8.1)\n",
      "Ball 1034: Center at (695.5, 633.1), Velocity: (-9.2, 17.5)\n",
      "Ball 1034: Center at (683.0, 651.6), Velocity: (-12.5, 18.5)\n",
      "Ball 1036: Center at (548.3, 893.1), Velocity: (0.0, 0.0)\n",
      "Ball 1038: Center at (360.9, 830.8), Velocity: (0.0, 0.0)\n",
      "Ball 1040: Center at (335.3, 909.3), Velocity: (0.0, 0.0)\n",
      "Ball 1040: Center at (326.2, 899.6), Velocity: (-9.1, -9.7)\n",
      "Ball 1042: Center at (314.0, 876.2), Velocity: (0.0, 0.0)\n",
      "Ball 1044: Center at (297.7, 854.1), Velocity: (0.0, 0.0)\n",
      "Ball 1046: Center at (289.5, 837.3), Velocity: (0.0, 0.0)\n",
      "Ball 1048: Center at (276.0, 824.9), Velocity: (0.0, 0.0)\n",
      "Ball 1050: Center at (264.4, 814.5), Velocity: (0.0, 0.0)\n",
      "Ball 1052: Center at (250.8, 810.0), Velocity: (0.0, 0.0)\n",
      "Ball 1054: Center at (240.4, 808.7), Velocity: (0.0, 0.0)\n",
      "Ball 1054: Center at (227.2, 813.2), Velocity: (-13.2, 4.5)\n",
      "Ball 1056: Center at (330.5, 525.1), Velocity: (0.0, 0.0)\n",
      "Ball 1056: Center at (316.5, 526.7), Velocity: (-14.0, 1.6)\n",
      "Ball 1058: Center at (193.2, 848.9), Velocity: (0.0, 0.0)\n",
      "Ball 1060: Center at (206.7, 815.8), Velocity: (0.0, 0.0)\n",
      "Ball 1062: Center at (208.5, 794.4), Velocity: (0.0, 0.0)\n",
      "Ball 1064: Center at (217.0, 773.7), Velocity: (0.0, 0.0)\n",
      "Ball 1066: Center at (397.2, 841.2), Velocity: (0.0, 0.0)\n",
      "Ball 1068: Center at (487.4, 932.0), Velocity: (0.0, 0.0)\n",
      "Ball 1070: Center at (523.0, 895.0), Velocity: (0.0, 0.0)\n",
      "Ball 1072: Center at (553.3, 855.4), Velocity: (0.0, 0.0)\n",
      "Ball 1074: Center at (706.7, 730.8), Velocity: (0.0, 0.0)\n",
      "Ball 1076: Center at (729.8, 713.3), Velocity: (0.0, 0.0)\n",
      "Ball 1076: Center at (747.6, 698.4), Velocity: (17.8, -14.9)\n",
      "Ball 1078: Center at (768.0, 673.7), Velocity: (0.0, 0.0)\n",
      "Ball 1078: Center at (764.0, 658.8), Velocity: (-4.0, -14.9)\n",
      "Ball 1080: Center at (604.6, 827.5), Velocity: (0.0, 0.0)\n",
      "Ball 1082: Center at (555.9, 868.4), Velocity: (0.0, 0.0)\n",
      "Ball 1084: Center at (503.2, 913.8), Velocity: (0.0, 0.0)\n",
      "Ball 1086: Center at (374.8, 829.5), Velocity: (0.0, 0.0)\n"
     ]
    }
   ],
   "source": [
    "cap = cv2.VideoCapture(\"../data/video/dribbling.mov\")\n",
    "    \n",
    "print(\"Basketball Tracker with ByteTrack Algorithm\")\n",
    "print(\"Press 'q' to quit, 'r' to reset tracker\")\n",
    "    \n",
    "while True:\n",
    "        ret, frame = cap.read()\n",
    "        if not ret:\n",
    "            # Loop video\n",
    "            cap.set(cv2.CAP_PROP_POS_FRAMES, 0)\n",
    "            continue\n",
    "        \n",
    "        # Get basketball coordinates for AI referee\n",
    "        ball_coords = tracker.get_basketball_coordinates(frame)\n",
    "        \n",
    "        # Display results\n",
    "        tracks, annotated_frame = tracker.infer_frame(frame)\n",
    "        \n",
    "        # Print basketball coordinates for AI referee\n",
    "        for ball in ball_coords:\n",
    "            print(f\"Ball {ball['ball_id']}: Center at ({ball['center'][0]:.1f}, {ball['center'][1]:.1f}), \"\n",
    "                  f\"Velocity: ({ball['velocity'][0]:.1f}, {ball['velocity'][1]:.1f})\")\n",
    "        \n",
    "        cv2.imshow(\"Basketball Tracking with ByteTrack\", annotated_frame)\n",
    "        \n",
    "        key = cv2.waitKey(1) & 0xFF\n",
    "        if key == ord('q'):\n",
    "            break\n",
    "        elif key == ord('r'):\n",
    "            tracker.reset()\n",
    "            print(\"Tracker reset\")\n",
    "    \n",
    "cap.release()\n",
    "cv2.destroyAllWindows()"
   ]
  },
  {
   "cell_type": "code",
   "execution_count": null,
   "id": "a33845e0",
   "metadata": {},
   "outputs": [],
   "source": []
  }
 ],
 "metadata": {
  "kernelspec": {
   "display_name": "ov_env",
   "language": "python",
   "name": "python3"
  },
  "language_info": {
   "codemirror_mode": {
    "name": "ipython",
    "version": 3
   },
   "file_extension": ".py",
   "mimetype": "text/x-python",
   "name": "python",
   "nbconvert_exporter": "python",
   "pygments_lexer": "ipython3",
   "version": "3.10.18"
  }
 },
 "nbformat": 4,
 "nbformat_minor": 5
}
